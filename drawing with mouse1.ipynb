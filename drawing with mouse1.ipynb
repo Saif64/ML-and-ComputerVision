{
 "cells": [
  {
   "cell_type": "code",
   "execution_count": null,
   "source": [
    "import cv2\r\n",
    "import numpy as np\r\n",
    "\r\n",
    "\r\n",
    "drawing = False\r\n",
    "ix, iy = -1, -1\r\n",
    "\r\n",
    "\r\n",
    "##############\r\n",
    "## FUNCTION ##\r\n",
    "##############\r\n",
    "\r\n",
    "def draw_circle(event, x, y, flags, param):\r\n",
    "    if event == cv2.EVENT_LBUTTONDOWN:\r\n",
    "        cv2.circle(img, (x, y), 100, (0, 255, 0), -1)\r\n",
    "\r\n",
    "    elif event == cv2.EVENT_RBUTTONDOWN:\r\n",
    "        cv2.circle(img, (x, y), 100, (255, 255, 0), -1)\r\n",
    "\r\n",
    "\r\n",
    "def draw_rectangle(event, x, y, flags, param):\r\n",
    "    global ix,iy, drawing\r\n",
    "\r\n",
    "    if event == cv2.EVENT_LBUTTONDOWN:\r\n",
    "        drawing = True\r\n",
    "        ix, iy = x, y\r\n",
    "\r\n",
    "    elif event == cv2.EVENT_MOUSEMOVE:\r\n",
    "        if drawing == True:\r\n",
    "            cv2.rectangle(img, (ix, iy), (x, y), (0, 255, 0), -1)\r\n",
    "\r\n",
    "    elif event == cv2.EVENT_LBUTTONUP:\r\n",
    "        drawing = False\r\n",
    "        cv2.rectangle(img, (ix, iy), (x, y), (0, 255, 0), -1)\r\n",
    "\r\n",
    "\r\n",
    "###############################\r\n",
    "## SHOWING IMAGE WITH OPENCV ##\r\n",
    "###############################\r\n",
    "\r\n",
    "\r\n",
    "img = np.zeros((512, 512, 3))\r\n",
    "cv2.namedWindow(winname=\"my_drawing\")\r\n",
    "cv2.setMouseCallback(\"my_drawing\", draw_rectangle)\r\n",
    "\r\n",
    "while True:\r\n",
    "    cv2.imshow('my_drawing', img)\r\n",
    "\r\n",
    "    if cv2.waitKey(20) & 0xFF == 27:\r\n",
    "        break\r\n",
    "cv2.destroyAllWindows()"
   ],
   "outputs": [],
   "metadata": {}
  }
 ],
 "metadata": {
  "orig_nbformat": 4,
  "language_info": {
   "name": "python",
   "version": "3.6.6"
  },
  "kernelspec": {
   "name": "python3",
   "display_name": "Python 3.6.6 64-bit ('python-cvcourse': conda)"
  },
  "interpreter": {
   "hash": "b86a38de55a42abe3cab04f7203168d651f4d9b392fe77aecd449187da84e109"
  }
 },
 "nbformat": 4,
 "nbformat_minor": 2
}