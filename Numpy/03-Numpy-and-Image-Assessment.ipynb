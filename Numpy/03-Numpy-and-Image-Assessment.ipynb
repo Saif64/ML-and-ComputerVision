{
 "nbformat": 4,
 "nbformat_minor": 0,
 "metadata": {
  "kernelspec": {
   "display_name": "Python 3",
   "language": "python",
   "name": "python3"
  },
  "language_info": {
   "codemirror_mode": {
    "name": "ipython",
    "version": 3
   },
   "file_extension": ".py",
   "mimetype": "text/x-python",
   "name": "python",
   "nbconvert_exporter": "python",
   "pygments_lexer": "ipython3",
   "version": "3.6.6"
  },
  "colab": {
   "name": "03-Numpy-and-Image-Assessment.ipynb",
   "provenance": [],
   "collapsed_sections": []
  }
 },
 "cells": [
  {
   "cell_type": "markdown",
   "metadata": {
    "collapsed": true,
    "id": "Cr-2Ydf7hn6y"
   },
   "source": [
    "# NumPy and Image Assessment \n",
    "\n",
    "**COMPLETE THE TASKS IN BOLD BELOW.**"
   ]
  },
  {
   "cell_type": "markdown",
   "metadata": {
    "id": "Mp4wLvfShn6z"
   },
   "source": [
    "**TASK: Import NumPy**"
   ]
  },
  {
   "cell_type": "code",
   "metadata": {
    "id": "6tPs-VQ_hn60",
    "executionInfo": {
     "status": "ok",
     "timestamp": 1628877495058,
     "user_tz": -360,
     "elapsed": 760,
     "user": {
      "displayName": "Muntasir Mahmud Saif",
      "photoUrl": "https://lh3.googleusercontent.com/a-/AOh14GhBB8CoZuMedh4BljRrhmHV71wnKwOuekZdU4SNvlM=s64",
      "userId": "00868726625336926352"
     }
    }
   },
   "source": [
    "import numpy as np"
   ],
   "execution_count": 4,
   "outputs": []
  },
  {
   "cell_type": "markdown",
   "metadata": {
    "id": "05urrbpdhn60"
   },
   "source": [
    "**TASK: Create a 5 by 5 array where every number is a 10**"
   ]
  },
  {
   "cell_type": "code",
   "metadata": {
    "id": "ERTJ6WoDhn61",
    "executionInfo": {
     "status": "ok",
     "timestamp": 1628877495871,
     "user_tz": -360,
     "elapsed": 2,
     "user": {
      "displayName": "Muntasir Mahmud Saif",
      "photoUrl": "https://lh3.googleusercontent.com/a-/AOh14GhBB8CoZuMedh4BljRrhmHV71wnKwOuekZdU4SNvlM=s64",
      "userId": "00868726625336926352"
     }
    }
   },
   "source": [
    "x = np.arange(25).reshape(5,5)\n",
    "x[x >= 0] = 10"
   ],
   "execution_count": 5,
   "outputs": []
  },
  {
   "cell_type": "code",
   "metadata": {
    "colab": {
     "base_uri": "https://localhost:8080/"
    },
    "id": "SBQlHuQahn61",
    "executionInfo": {
     "status": "ok",
     "timestamp": 1628877496707,
     "user_tz": -360,
     "elapsed": 3,
     "user": {
      "displayName": "Muntasir Mahmud Saif",
      "photoUrl": "https://lh3.googleusercontent.com/a-/AOh14GhBB8CoZuMedh4BljRrhmHV71wnKwOuekZdU4SNvlM=s64",
      "userId": "00868726625336926352"
     }
    },
    "outputId": "1476ee6c-0e95-4deb-b7f9-03c9ca7224e8"
   },
   "source": [
    "print(x)"
   ],
   "execution_count": 7,
   "outputs": [
    {
     "name": "stdout",
     "output_type": "stream",
     "text": [
      "[[10 10 10 10 10]\n",
      " [10 10 10 10 10]\n",
      " [10 10 10 10 10]\n",
      " [10 10 10 10 10]\n",
      " [10 10 10 10 10]]\n"
     ]
    }
   ]
  },
  {
   "cell_type": "markdown",
   "metadata": {
    "id": "74uhVXcEhn62"
   },
   "source": [
    "**TASK: Run the cell below to create an array of random numbers and see if you can figure out how it works.**"
   ]
  },
  {
   "cell_type": "code",
   "metadata": {
    "id": "tGErkDxzhn63",
    "executionInfo": {
     "status": "ok",
     "timestamp": 1628877497234,
     "user_tz": -360,
     "elapsed": 1,
     "user": {
      "displayName": "Muntasir Mahmud Saif",
      "photoUrl": "https://lh3.googleusercontent.com/a-/AOh14GhBB8CoZuMedh4BljRrhmHV71wnKwOuekZdU4SNvlM=s64",
      "userId": "00868726625336926352"
     }
    }
   },
   "source": [
    "# This line sets a \"seed\" so you get the same random numbers we do\n",
    "np.random.seed(101)\n",
    "# This line creates an array of random numbers\n",
    "arr = np.random.randint(low=0,high=100,size=(5,5))"
   ],
   "execution_count": 8,
   "outputs": []
  },
  {
   "cell_type": "markdown",
   "metadata": {
    "id": "YWYzZ4Mxhn63"
   },
   "source": [
    "**TASK: What are the largest and smalled values in this array?**"
   ]
  },
  {
   "cell_type": "code",
   "metadata": {
    "id": "M5hqGryuhn64",
    "colab": {
     "base_uri": "https://localhost:8080/"
    },
    "executionInfo": {
     "status": "ok",
     "timestamp": 1628877512752,
     "user_tz": -360,
     "elapsed": 508,
     "user": {
      "displayName": "Muntasir Mahmud Saif",
      "photoUrl": "https://lh3.googleusercontent.com/a-/AOh14GhBB8CoZuMedh4BljRrhmHV71wnKwOuekZdU4SNvlM=s64",
      "userId": "00868726625336926352"
     }
    },
    "outputId": "a8e9291a-cb9f-44d1-8e0b-380e83167b1e"
   },
   "source": [
    "np.max(arr)"
   ],
   "execution_count": 9,
   "outputs": [
    {
     "data": {
      "text/plain": "95"
     },
     "execution_count": 9,
     "metadata": {},
     "output_type": "execute_result"
    }
   ]
  },
  {
   "cell_type": "code",
   "metadata": {
    "id": "MaJLdqzahn64",
    "colab": {
     "base_uri": "https://localhost:8080/"
    },
    "executionInfo": {
     "status": "ok",
     "timestamp": 1628877521045,
     "user_tz": -360,
     "elapsed": 498,
     "user": {
      "displayName": "Muntasir Mahmud Saif",
      "photoUrl": "https://lh3.googleusercontent.com/a-/AOh14GhBB8CoZuMedh4BljRrhmHV71wnKwOuekZdU4SNvlM=s64",
      "userId": "00868726625336926352"
     }
    },
    "outputId": "087e2e1f-bfaa-4015-edc0-576a72387883"
   },
   "source": [
    "np.min(arr)"
   ],
   "execution_count": 10,
   "outputs": [
    {
     "data": {
      "text/plain": "4"
     },
     "execution_count": 10,
     "metadata": {},
     "output_type": "execute_result"
    }
   ]
  },
  {
   "cell_type": "markdown",
   "metadata": {
    "id": "JNsIUP7ahn65"
   },
   "source": [
    "**TASK: Use PIL and matplotlib to read and display the ../DATA/00-puppy.jpg image.**"
   ]
  },
  {
   "cell_type": "code",
   "metadata": {
    "id": "WmELVSCzhn65",
    "executionInfo": {
     "status": "ok",
     "timestamp": 1628877572081,
     "user_tz": -360,
     "elapsed": 516,
     "user": {
      "displayName": "Muntasir Mahmud Saif",
      "photoUrl": "https://lh3.googleusercontent.com/a-/AOh14GhBB8CoZuMedh4BljRrhmHV71wnKwOuekZdU4SNvlM=s64",
      "userId": "00868726625336926352"
     }
    }
   },
   "source": [
    "import matplotlib.pyplot as plt\n",
    "from PIL import Image"
   ],
   "execution_count": 11,
   "outputs": []
  },
  {
   "cell_type": "code",
   "metadata": {
    "colab": {
     "base_uri": "https://localhost:8080/"
    },
    "id": "3-VT4-IPq7d4",
    "executionInfo": {
     "status": "ok",
     "timestamp": 1628877632096,
     "user_tz": -360,
     "elapsed": 24219,
     "user": {
      "displayName": "Muntasir Mahmud Saif",
      "photoUrl": "https://lh3.googleusercontent.com/a-/AOh14GhBB8CoZuMedh4BljRrhmHV71wnKwOuekZdU4SNvlM=s64",
      "userId": "00868726625336926352"
     }
    },
    "outputId": "40811d7e-45db-417f-d36a-ffd0660eba43"
   },
   "source": [
    "from google.colab import drive\n",
    "drive.mount('/content/drive')"
   ],
   "execution_count": 8,
   "outputs": [
    {
     "output_type": "stream",
     "text": [
      "Mounted at /content/drive\n"
     ],
     "name": "stdout"
    }
   ]
  },
  {
   "cell_type": "code",
   "metadata": {
    "id": "QN4dHjP4rJEX",
    "executionInfo": {
     "status": "ok",
     "timestamp": 1628877662851,
     "user_tz": -360,
     "elapsed": 1274,
     "user": {
      "displayName": "Muntasir Mahmud Saif",
      "photoUrl": "https://lh3.googleusercontent.com/a-/AOh14GhBB8CoZuMedh4BljRrhmHV71wnKwOuekZdU4SNvlM=s64",
      "userId": "00868726625336926352"
     }
    }
   },
   "source": [
    "pic = Image.open(\"/content/drive/MyDrive/Computer Vision with python/DATA/00-puppy.jpg\")"
   ],
   "execution_count": 9,
   "outputs": []
  },
  {
   "cell_type": "markdown",
   "metadata": {
    "id": "NW9dD83Khn65"
   },
   "source": [
    "**TASK: Convert the image to a NumPy Array**"
   ]
  },
  {
   "cell_type": "code",
   "metadata": {
    "id": "oUSdVao6hn66",
    "colab": {
     "base_uri": "https://localhost:8080/"
    },
    "executionInfo": {
     "status": "ok",
     "timestamp": 1628877686435,
     "user_tz": -360,
     "elapsed": 2,
     "user": {
      "displayName": "Muntasir Mahmud Saif",
      "photoUrl": "https://lh3.googleusercontent.com/a-/AOh14GhBB8CoZuMedh4BljRrhmHV71wnKwOuekZdU4SNvlM=s64",
      "userId": "00868726625336926352"
     }
    },
    "outputId": "4fc9787a-e010-4c0b-b571-02d6e36e8778"
   },
   "source": [
    "pic_arr = np.asarray(pic)\n",
    "pic_arr.shape"
   ],
   "execution_count": 10,
   "outputs": [
    {
     "output_type": "execute_result",
     "data": {
      "text/plain": [
       "(1300, 1950, 3)"
      ]
     },
     "metadata": {
      "tags": []
     },
     "execution_count": 10
    }
   ]
  },
  {
   "cell_type": "code",
   "metadata": {
    "id": "nAq6Sfr3rYkX",
    "executionInfo": {
     "status": "ok",
     "timestamp": 1628877722800,
     "user_tz": -360,
     "elapsed": 486,
     "user": {
      "displayName": "Muntasir Mahmud Saif",
      "photoUrl": "https://lh3.googleusercontent.com/a-/AOh14GhBB8CoZuMedh4BljRrhmHV71wnKwOuekZdU4SNvlM=s64",
      "userId": "00868726625336926352"
     }
    }
   },
   "source": [
    "pic_red = pic_arr.copy()"
   ],
   "execution_count": 11,
   "outputs": []
  },
  {
   "cell_type": "markdown",
   "metadata": {
    "id": "Ve6Eei9-hn66"
   },
   "source": [
    "**FINAL TASK: Use slicing to set the RED and GREEN channels of the picture to 0, then use imshow() to show the isolated blue channel**"
   ]
  },
  {
   "cell_type": "code",
   "metadata": {
    "id": "ux4Vps2lhn66",
    "executionInfo": {
     "status": "ok",
     "timestamp": 1628877763592,
     "user_tz": -360,
     "elapsed": 766,
     "user": {
      "displayName": "Muntasir Mahmud Saif",
      "photoUrl": "https://lh3.googleusercontent.com/a-/AOh14GhBB8CoZuMedh4BljRrhmHV71wnKwOuekZdU4SNvlM=s64",
      "userId": "00868726625336926352"
     }
    }
   },
   "source": [
    "pic_red[:, :, 0] = 0"
   ],
   "execution_count": 12,
   "outputs": []
  },
  {
   "cell_type": "code",
   "metadata": {
    "id": "HBMT-KGJhn66",
    "executionInfo": {
     "status": "ok",
     "timestamp": 1628877763593,
     "user_tz": -360,
     "elapsed": 3,
     "user": {
      "displayName": "Muntasir Mahmud Saif",
      "photoUrl": "https://lh3.googleusercontent.com/a-/AOh14GhBB8CoZuMedh4BljRrhmHV71wnKwOuekZdU4SNvlM=s64",
      "userId": "00868726625336926352"
     }
    }
   },
   "source": [
    "pic_red[:, :, 1] = 0"
   ],
   "execution_count": 13,
   "outputs": []
  },
  {
   "cell_type": "code",
   "metadata": {
    "id": "0Qjq2mDXhn66",
    "colab": {
     "base_uri": "https://localhost:8080/",
     "height": 286
    },
    "executionInfo": {
     "status": "ok",
     "timestamp": 1628877766636,
     "user_tz": -360,
     "elapsed": 1082,
     "user": {
      "displayName": "Muntasir Mahmud Saif",
      "photoUrl": "https://lh3.googleusercontent.com/a-/AOh14GhBB8CoZuMedh4BljRrhmHV71wnKwOuekZdU4SNvlM=s64",
      "userId": "00868726625336926352"
     }
    },
    "outputId": "56f61e71-ba09-4895-c5dd-3f60361de980"
   },
   "source": [
    "plt.imshow(pic_red)"
   ],
   "execution_count": 14,
   "outputs": [
    {
     "output_type": "execute_result",
     "data": {
      "text/plain": [
       "<matplotlib.image.AxesImage at 0x7fe501eece50>"
      ]
     },
     "metadata": {
      "tags": []
     },
     "execution_count": 14
    },
    {
     "output_type": "display_data",
     "data": {
      "image/png": "[encoded data removed]",
      "text/plain": [
       "<Figure size 432x288 with 1 Axes>"
      ]
     },
     "metadata": {
      "tags": [],
      "needs_background": "light"
     }
    }
   ]
  },
  {
   "cell_type": "markdown",
   "metadata": {
    "id": "3wBKvst-hn67"
   },
   "source": [
    "## Great Job!"
   ]
  },
  {
   "cell_type": "markdown",
   "metadata": {
    "id": "CQRCyhjLhn67"
   },
   "source": [
    "----"
   ]
  }
 ]
}