{
 "cells": [
  {
   "cell_type": "markdown",
   "source": [
    "# even odd counter"
   ],
   "metadata": {}
  },
  {
   "cell_type": "code",
   "execution_count": 10,
   "source": [
    "import numpy as np\r\n",
    "arr = np.arange(99)\r\n",
    "countEven = 0\r\n",
    "countOdd = 0\r\n",
    "for i in arr:\r\n",
    "    if i%2==0:\r\n",
    "        countEven += 1\r\n",
    "    else:\r\n",
    "        countOdd += 1\r\n",
    "        "
   ],
   "outputs": [],
   "metadata": {}
  },
  {
   "cell_type": "code",
   "execution_count": 11,
   "source": [
    "print(f\"even: {countEven} \\nodd: {countOdd}\")"
   ],
   "outputs": [
    {
     "output_type": "stream",
     "name": "stdout",
     "text": [
      "even: 50 \n",
      "odd: 49\n"
     ]
    }
   ],
   "metadata": {}
  },
  {
   "cell_type": "code",
   "execution_count": null,
   "source": [],
   "outputs": [],
   "metadata": {}
  }
 ],
 "metadata": {
  "orig_nbformat": 4,
  "language_info": {
   "name": "python",
   "version": "3.6.6",
   "mimetype": "text/x-python",
   "codemirror_mode": {
    "name": "ipython",
    "version": 3
   },
   "pygments_lexer": "ipython3",
   "nbconvert_exporter": "python",
   "file_extension": ".py"
  },
  "kernelspec": {
   "name": "python3",
   "display_name": "Python 3.6.6 64-bit ('python-cvcourse': conda)"
  },
  "interpreter": {
   "hash": "b86a38de55a42abe3cab04f7203168d651f4d9b392fe77aecd449187da84e109"
  }
 },
 "nbformat": 4,
 "nbformat_minor": 2
}